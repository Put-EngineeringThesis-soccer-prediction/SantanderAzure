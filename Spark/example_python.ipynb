{
  "metadata": {
    "saveOutput": true,
    "language_info": {
      "name": "python"
    }
  },
  "nbformat": 4,
  "nbformat_minor": 2,
  "cells": [
    {
      "cell_type": "code",
      "execution_count": 24,
      "outputs": [
        {
          "output_type": "execute_result",
          "data": {
            "text/plain": "+-----------+-----------+--------------------+\n|R_REGIONKEY|     R_NAME|           R_COMMENT|\n+-----------+-----------+--------------------+\n|          0|     AFRICA|lar deposits. bli...|\n|          1|    AMERICA|hs use ironic, ev...|\n|          2|       ASIA|ges. thinly even ...|\n|          3|     EUROPE|ly final courts c...|\n|          4|MIDDLE EAST|uickly special ac...|\n+-----------+-----------+--------------------+"
          },
          "execution_count": 25,
          "metadata": {}
        }
      ],
      "metadata": {
        "diagram": {
          "activateDiagramType": 1,
          "chartConfig": {
            "category": "bar",
            "keys": [
              "N_NATIONKEY"
            ],
            "values": [
              "N_NATIONKEY"
            ],
            "yLabel": "N_NATIONKEY",
            "xLabel": "N_NATIONKEY",
            "aggregation": "COUNT",
            "aggByBackend": false
          },
          "aggData": "{\"N_NATIONKEY\":{\"0\":1,\"1\":1,\"2\":1,\"3\":1,\"4\":1,\"5\":1,\"6\":1,\"7\":1,\"8\":1,\"9\":1}}",
          "isSummary": false,
          "previewData": {
            "filter": null
          },
          "isSql": false
        }
      },
      "source": [
        "region_df = spark.read.load('abfss://khd-datalake@mgrhdsantanderdl2.dfs.core.windows.net/tpc-h/region.csv', format='csv', header=True, sep='|').drop('empty')\n",
        "region_df.show()"
      ],
      "attachments": {}
    },
    {
      "cell_type": "code",
      "execution_count": 11,
      "outputs": [
        {
          "output_type": "execute_result",
          "data": {
            "text/plain": "import com.microsoft.spark.sqlanalytics.utils.Constants\nimport org.apache.spark.sql.SqlAnalyticsConnector._\nStructuredStream-spark package version: 2.4.5-1.3.1\ndf: org.apache.spark.sql.DataFrame = [N_NATIONKEY: int, N_NAME: string ... 2 more fields]\nStructuredStream-spark package version: 2.4.5-1.3.1\nStructuredStream-spark package version: 2.4.5-1.3.1"
          },
          "execution_count": 12,
          "metadata": {}
        }
      ],
      "metadata": {},
      "source": [
        "%%spark\n",
        "\n",
        "import com.microsoft.spark.sqlanalytics.utils.Constants\n",
        "import org.apache.spark.sql.SqlAnalyticsConnector._\n",
        "val df = spark.read.sqlanalytics(\"stdmgrkhd.dbo.nation\") \n",
        "df.write.mode(\"overwrite\").saveAsTable(\"tempTable_Nation\")\n",
        "\n",
        ""
      ],
      "attachments": {}
    },
    {
      "cell_type": "code",
      "execution_count": 35,
      "outputs": [
        {
          "output_type": "execute_result",
          "data": {
            "application/json": {
              "table": {
                "rows": [
                  {
                    "nation_name": "MOROCCO                  ",
                    "region_name": "AFRICA"
                  },
                  {
                    "nation_name": "MOZAMBIQUE               ",
                    "region_name": "AFRICA"
                  },
                  {
                    "nation_name": "ETHIOPIA                 ",
                    "region_name": "AFRICA"
                  },
                  {
                    "nation_name": "ALGERIA                  ",
                    "region_name": "AFRICA"
                  },
                  {
                    "nation_name": "KENYA                    ",
                    "region_name": "AFRICA"
                  },
                  {
                    "nation_name": "ARGENTINA                ",
                    "region_name": "AMERICA"
                  },
                  {
                    "nation_name": "BRAZIL                   ",
                    "region_name": "AMERICA"
                  },
                  {
                    "nation_name": "CANADA                   ",
                    "region_name": "AMERICA"
                  },
                  {
                    "nation_name": "PERU                     ",
                    "region_name": "AMERICA"
                  },
                  {
                    "nation_name": "UNITED STATES            ",
                    "region_name": "AMERICA"
                  },
                  {
                    "nation_name": "INDIA                    ",
                    "region_name": "ASIA"
                  },
                  {
                    "nation_name": "INDONESIA                ",
                    "region_name": "ASIA"
                  },
                  {
                    "nation_name": "JAPAN                    ",
                    "region_name": "ASIA"
                  },
                  {
                    "nation_name": "VIETNAM                  ",
                    "region_name": "ASIA"
                  },
                  {
                    "nation_name": "CHINA                    ",
                    "region_name": "ASIA"
                  },
                  {
                    "nation_name": "RUSSIA                   ",
                    "region_name": "EUROPE"
                  },
                  {
                    "nation_name": "FRANCE                   ",
                    "region_name": "EUROPE"
                  },
                  {
                    "nation_name": "UNITED KINGDOM           ",
                    "region_name": "EUROPE"
                  },
                  {
                    "nation_name": "ROMANIA                  ",
                    "region_name": "EUROPE"
                  },
                  {
                    "nation_name": "GERMANY                  ",
                    "region_name": "EUROPE"
                  },
                  {
                    "nation_name": "JORDAN                   ",
                    "region_name": "MIDDLE EAST"
                  },
                  {
                    "nation_name": "SAUDI ARABIA             ",
                    "region_name": "MIDDLE EAST"
                  },
                  {
                    "nation_name": "IRAN                     ",
                    "region_name": "MIDDLE EAST"
                  },
                  {
                    "nation_name": "EGYPT                    ",
                    "region_name": "MIDDLE EAST"
                  },
                  {
                    "nation_name": "IRAQ                     ",
                    "region_name": "MIDDLE EAST"
                  }
                ],
                "schema": {
                  "nation_name": "string",
                  "region_name": "string"
                }
              },
              "isSummary": false,
              "language": "scala"
            }
          },
          "execution_count": 36,
          "metadata": {}
        }
      ],
      "metadata": {
        "diagram": {
          "activateDiagramType": 1,
          "chartConfig": {
            "category": "bar",
            "keys": [
              "nation_name"
            ],
            "values": [
              "nation_name"
            ],
            "yLabel": "nation_name",
            "xLabel": "nation_name",
            "aggregation": "COUNT",
            "aggByBackend": false
          },
          "aggData": "{\"nation_name\":{\"ALGERIA                  \":1,\"ARGENTINA                \":1,\"BRAZIL                   \":1,\"CANADA                   \":1,\"CHINA                    \":1,\"EGYPT                    \":1,\"ETHIOPIA                 \":1,\"FRANCE                   \":1,\"GERMANY                  \":1,\"INDIA                    \":1,\"INDONESIA                \":1,\"IRAN                     \":1,\"IRAQ                     \":1,\"JAPAN                    \":1,\"JORDAN                   \":1,\"KENYA                    \":1,\"MOROCCO                  \":1,\"MOZAMBIQUE               \":1,\"PERU                     \":1,\"ROMANIA                  \":1,\"RUSSIA                   \":1,\"SAUDI ARABIA             \":1,\"UNITED KINGDOM           \":1,\"UNITED STATES            \":1,\"VIETNAM                  \":1}}",
          "isSummary": false,
          "previewData": {
            "filter": null
          },
          "isSql": false
        }
      },
      "source": [
        "nations_df = spark.sql(\"select * from tempTable_Nation\")\n",
        "result_df = region_df.join(nations_df, region_df.R_REGIONKEY == nations_df.N_REGIONKEY) \\\n",
        "    .select(nations_df.N_NAME, region_df.R_NAME) \\\n",
        "    .withColumnRenamed(\"N_NAME\", \"nation_name\") \\\n",
        "    .withColumnRenamed(\"R_NAME\", \"region_name\") \\\n",
        "    .orderBy(\"region_name\")\n",
        "display(result_df)\n",
        "\n",
        "result_df.write.parquet(\"abfss://khd-datalake@mgrhdsantanderdl2.dfs.core.windows.net/tpc-h/processed/natregion.parquet\", partitionBy=\"region_name\")"
      ],
      "attachments": {}
    },
    {
      "cell_type": "code",
      "execution_count": 28,
      "outputs": [
        {
          "output_type": "execute_result",
          "data": {
            "text/plain": "+-----------+--------------------+-----------+--------------------+\n|N_NATIONKEY|              N_NAME|N_REGIONKEY|            NCOMMENT|\n+-----------+--------------------+-----------+--------------------+\n|          1|ARGENTINA        ...|          1|al foxes promise ...|\n|          8|INDIA            ...|          2|ss excuses cajole...|\n|         15|MOROCCO          ...|          0|rns. blithely bol...|\n|         22|RUSSIA           ...|          3| requests against...|\n|          6|FRANCE           ...|          3|refully final req...|\n|         13|JORDAN           ...|          4|ic deposits are b...|\n|         20|SAUDI ARABIA     ...|          4|ts. silent reques...|\n|          2|BRAZIL           ...|          1|y alongside of th...|\n|          9|INDONESIA        ...|          2| slyly express as...|\n|         16|MOZAMBIQUE       ...|          0|s. ironic, unusua...|\n|         23|UNITED KINGDOM   ...|          3|eans boost carefu...|\n|          5|ETHIOPIA         ...|          0|ven packages wake...|\n|         12|JAPAN            ...|          2|ously. final, exp...|\n|         19|ROMANIA          ...|          3|ular asymptotes a...|\n|          3|CANADA           ...|          1|eas hang ironic, ...|\n|         10|IRAN             ...|          4|efully alongside ...|\n|         17|PERU             ...|          1|platelets. blithe...|\n|         24|UNITED STATES    ...|          1|y final packages....|\n|          0|ALGERIA          ...|          0| haggle. carefull...|\n|          7|GERMANY          ...|          3|l platelets. regu...|\n+-----------+--------------------+-----------+--------------------+\nonly showing top 20 rows"
          },
          "execution_count": 29,
          "metadata": {}
        }
      ],
      "metadata": {},
      "source": [
        ""
      ],
      "attachments": {}
    }
  ]
}